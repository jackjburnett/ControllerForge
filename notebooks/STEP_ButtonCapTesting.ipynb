{
 "cells": [
  {
   "cell_type": "code",
   "id": "initial_id",
   "metadata": {
    "ExecuteTime": {
     "end_time": "2024-07-31T20:35:35.519645Z",
     "start_time": "2024-07-31T20:35:33.508973Z"
    }
   },
   "source": [
    "# Library imports\n",
    "import cadquery as cq"
   ],
   "outputs": [
    {
     "ename": "KeyboardInterrupt",
     "evalue": "",
     "output_type": "error",
     "traceback": [
      "\u001B[1;31m---------------------------------------------------------------------------\u001B[0m",
      "\u001B[1;31mKeyboardInterrupt\u001B[0m                         Traceback (most recent call last)",
      "Cell \u001B[1;32mIn[1], line 2\u001B[0m\n\u001B[0;32m      1\u001B[0m \u001B[38;5;66;03m# Library imports\u001B[39;00m\n\u001B[1;32m----> 2\u001B[0m \u001B[38;5;28;01mimport\u001B[39;00m \u001B[38;5;21;01mcadquery\u001B[39;00m \u001B[38;5;28;01mas\u001B[39;00m \u001B[38;5;21;01mcq\u001B[39;00m\n",
      "File \u001B[1;32m~\\anaconda3\\envs\\cadquery\\Lib\\site-packages\\cadquery\\__init__.py:10\u001B[0m\n\u001B[0;32m      7\u001B[0m     __version__ \u001B[38;5;241m=\u001B[39m \u001B[38;5;124m\"\u001B[39m\u001B[38;5;124m2.5-dev\u001B[39m\u001B[38;5;124m\"\u001B[39m\n\u001B[0;32m      9\u001B[0m \u001B[38;5;66;03m# these items point to the OCC implementation\u001B[39;00m\n\u001B[1;32m---> 10\u001B[0m \u001B[38;5;28;01mfrom\u001B[39;00m \u001B[38;5;21;01m.\u001B[39;00m\u001B[38;5;21;01mocc_impl\u001B[39;00m\u001B[38;5;21;01m.\u001B[39;00m\u001B[38;5;21;01mgeom\u001B[39;00m \u001B[38;5;28;01mimport\u001B[39;00m Plane, BoundBox, Vector, Matrix, Location\n\u001B[0;32m     11\u001B[0m \u001B[38;5;28;01mfrom\u001B[39;00m \u001B[38;5;21;01m.\u001B[39;00m\u001B[38;5;21;01mocc_impl\u001B[39;00m\u001B[38;5;21;01m.\u001B[39;00m\u001B[38;5;21;01mshapes\u001B[39;00m \u001B[38;5;28;01mimport\u001B[39;00m (\n\u001B[0;32m     12\u001B[0m     Shape,\n\u001B[0;32m     13\u001B[0m     Vertex,\n\u001B[1;32m   (...)\u001B[0m\n\u001B[0;32m     20\u001B[0m     sortWiresByBuildOrder,\n\u001B[0;32m     21\u001B[0m )\n\u001B[0;32m     22\u001B[0m \u001B[38;5;28;01mfrom\u001B[39;00m \u001B[38;5;21;01m.\u001B[39;00m\u001B[38;5;21;01mocc_impl\u001B[39;00m \u001B[38;5;28;01mimport\u001B[39;00m exporters\n",
      "File \u001B[1;32m~\\anaconda3\\envs\\cadquery\\Lib\\site-packages\\cadquery\\occ_impl\\geom.py:5\u001B[0m\n\u001B[0;32m      1\u001B[0m \u001B[38;5;28;01mimport\u001B[39;00m \u001B[38;5;21;01mmath\u001B[39;00m\n\u001B[0;32m      3\u001B[0m \u001B[38;5;28;01mfrom\u001B[39;00m \u001B[38;5;21;01mtyping\u001B[39;00m \u001B[38;5;28;01mimport\u001B[39;00m overload, Sequence, Union, Tuple, Type, Optional\n\u001B[1;32m----> 5\u001B[0m \u001B[38;5;28;01mfrom\u001B[39;00m \u001B[38;5;21;01mOCP\u001B[39;00m\u001B[38;5;21;01m.\u001B[39;00m\u001B[38;5;21;01mgp\u001B[39;00m \u001B[38;5;28;01mimport\u001B[39;00m (\n\u001B[0;32m      6\u001B[0m     gp_Vec,\n\u001B[0;32m      7\u001B[0m     gp_Ax1,\n\u001B[0;32m      8\u001B[0m     gp_Ax3,\n\u001B[0;32m      9\u001B[0m     gp_Pnt,\n\u001B[0;32m     10\u001B[0m     gp_Dir,\n\u001B[0;32m     11\u001B[0m     gp_Pln,\n\u001B[0;32m     12\u001B[0m     gp_Trsf,\n\u001B[0;32m     13\u001B[0m     gp_GTrsf,\n\u001B[0;32m     14\u001B[0m     gp_XYZ,\n\u001B[0;32m     15\u001B[0m     gp_EulerSequence,\n\u001B[0;32m     16\u001B[0m     gp,\n\u001B[0;32m     17\u001B[0m )\n\u001B[0;32m     18\u001B[0m \u001B[38;5;28;01mfrom\u001B[39;00m \u001B[38;5;21;01mOCP\u001B[39;00m\u001B[38;5;21;01m.\u001B[39;00m\u001B[38;5;21;01mBnd\u001B[39;00m \u001B[38;5;28;01mimport\u001B[39;00m Bnd_Box\n\u001B[0;32m     19\u001B[0m \u001B[38;5;28;01mfrom\u001B[39;00m \u001B[38;5;21;01mOCP\u001B[39;00m\u001B[38;5;21;01m.\u001B[39;00m\u001B[38;5;21;01mBRepBndLib\u001B[39;00m \u001B[38;5;28;01mimport\u001B[39;00m BRepBndLib\n",
      "File \u001B[1;32m<frozen importlib._bootstrap>:1176\u001B[0m, in \u001B[0;36m_find_and_load\u001B[1;34m(name, import_)\u001B[0m\n",
      "File \u001B[1;32m<frozen importlib._bootstrap>:1147\u001B[0m, in \u001B[0;36m_find_and_load_unlocked\u001B[1;34m(name, import_)\u001B[0m\n",
      "File \u001B[1;32m<frozen importlib._bootstrap>:676\u001B[0m, in \u001B[0;36m_load_unlocked\u001B[1;34m(spec)\u001B[0m\n",
      "File \u001B[1;32m<frozen importlib._bootstrap>:573\u001B[0m, in \u001B[0;36mmodule_from_spec\u001B[1;34m(spec)\u001B[0m\n",
      "File \u001B[1;32m<frozen importlib._bootstrap_external>:1235\u001B[0m, in \u001B[0;36mcreate_module\u001B[1;34m(self, spec)\u001B[0m\n",
      "File \u001B[1;32m<frozen importlib._bootstrap>:244\u001B[0m, in \u001B[0;36m_verbose_message\u001B[1;34m(message, verbosity, *args)\u001B[0m\n",
      "\u001B[1;31mKeyboardInterrupt\u001B[0m: "
     ]
    }
   ],
   "execution_count": 1
  },
  {
   "cell_type": "code",
   "id": "1ad9afdf9181a6ce",
   "metadata": {},
   "source": [
    "# Set variables\n",
    "diameter = 24.0\n",
    "thickness = 2.0\n",
    "bevel = True\n",
    "# wall = {\"thickness\": 0.0, \"height\": 0.0}\n",
    "wall = {\"thickness\": 1.0, \"height\": 3.0}"
   ],
   "outputs": [],
   "execution_count": null
  },
  {
   "cell_type": "code",
   "id": "12a9298f0a438296",
   "metadata": {
    "ExecuteTime": {
     "end_time": "2024-07-31T20:35:35.523653Z",
     "start_time": "2024-07-31T20:35:35.522654Z"
    }
   },
   "source": [
    "# Create the top of the button, using the diameter and thickness\n",
    "top = cq.Workplane().circle(diameter / 2)\n",
    "top = top.extrude(thickness)\n",
    "top"
   ],
   "outputs": [],
   "execution_count": null
  },
  {
   "cell_type": "code",
   "id": "8cb90aad",
   "metadata": {
    "ExecuteTime": {
     "end_time": "2024-07-31T20:35:35.527652Z",
     "start_time": "2024-07-31T20:35:35.526653Z"
    }
   },
   "source": [
    "# Add bevel to the button, if it has been requested\n",
    "if bevel:\n",
    "    top = top.faces(\">Z\").edges().fillet(1)\n",
    "top"
   ],
   "outputs": [],
   "execution_count": null
  },
  {
   "cell_type": "code",
   "id": "0f54a54a",
   "metadata": {
    "ExecuteTime": {
     "end_time": "2024-07-31T20:35:35.530654Z",
     "start_time": "2024-07-31T20:35:35.529654Z"
    }
   },
   "source": [
    "# Convert the button cap into an assembly\n",
    "cap = cq.Assembly().add(top, loc=cq.Location((0, 0, wall[\"height\"])))\n",
    "cap"
   ],
   "outputs": [],
   "execution_count": null
  },
  {
   "cell_type": "code",
   "id": "b9d721ca",
   "metadata": {},
   "source": [
    "# If the walls have a thickness and height above 0, they are generated then added to the assembly\n",
    "# The walls add half the thickness, as the 'height' is the wall size after the button cap starts\n",
    "if wall[\"thickness\"] > 0.0 and wall[\"height\"] > 0.0:\n",
    "    walls = (\n",
    "        cq.Workplane()\n",
    "        .circle(diameter / 2)\n",
    "        .circle((diameter / 2) - wall[\"thickness\"])\n",
    "        .extrude(wall[\"height\"] + (thickness / 2))\n",
    "    )\n",
    "    cap.add(walls)\n",
    "cap"
   ],
   "outputs": [],
   "execution_count": null
  },
  {
   "cell_type": "code",
   "id": "c3100cdf-fda2-4273-90ef-1c03131ef59a",
   "metadata": {},
   "source": [
    "# export step\n",
    "cap.save(\"test_steps/cap.step\")"
   ],
   "outputs": [],
   "execution_count": null
  }
 ],
 "metadata": {
  "kernelspec": {
   "display_name": "Python 3 (ipykernel)",
   "language": "python",
   "name": "python3"
  },
  "language_info": {
   "codemirror_mode": {
    "name": "ipython",
    "version": 3
   },
   "file_extension": ".py",
   "mimetype": "text/x-python",
   "name": "python",
   "nbconvert_exporter": "python",
   "pygments_lexer": "ipython3",
   "version": "3.11.8"
  }
 },
 "nbformat": 4,
 "nbformat_minor": 5
}

{
 "cells": [
  {
   "cell_type": "code",
   "execution_count": null,
   "id": "initial_id",
   "metadata": {
    "collapsed": true
   },
   "outputs": [],
   "source": [
    "# https://cdn.shopify.com/s/files/1/0657/6075/5954/files/SPEC-CPG151101S21_Kailh_Red_Switch_b6770d67-8f51-48d9-9ec1-45442f4de278.pdf?v=1667196539\n",
    "mount_height = 4.0\n",
    "mount_radius = 3.0\n",
    "mount_cross_width = 4.2\n",
    "mount_cross_length = 1.4"
   ]
  }
 ],
 "metadata": {
  "kernelspec": {
   "display_name": "Python 3",
   "language": "python",
   "name": "python3"
  },
  "language_info": {
   "codemirror_mode": {
    "name": "ipython",
    "version": 2
   },
   "file_extension": ".py",
   "mimetype": "text/x-python",
   "name": "python",
   "nbconvert_exporter": "python",
   "pygments_lexer": "ipython2",
   "version": "2.7.6"
  }
 },
 "nbformat": 4,
 "nbformat_minor": 5
}

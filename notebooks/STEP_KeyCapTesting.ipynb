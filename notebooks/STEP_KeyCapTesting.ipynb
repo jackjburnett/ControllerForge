{
 "cells": [
  {
   "cell_type": "code",
   "id": "initial_id",
   "metadata": {
    "ExecuteTime": {
     "end_time": "2024-07-31T20:35:51.607477Z",
     "start_time": "2024-07-31T20:35:47.557104Z"
    }
   },
   "source": [
    "# Library imports\n",
    "import cadquery as cq"
   ],
   "outputs": [
    {
     "ename": "KeyboardInterrupt",
     "evalue": "",
     "output_type": "error",
     "traceback": [
      "\u001B[1;31m---------------------------------------------------------------------------\u001B[0m",
      "\u001B[1;31mKeyboardInterrupt\u001B[0m                         Traceback (most recent call last)",
      "Cell \u001B[1;32mIn[1], line 2\u001B[0m\n\u001B[0;32m      1\u001B[0m \u001B[38;5;66;03m# Library imports\u001B[39;00m\n\u001B[1;32m----> 2\u001B[0m \u001B[38;5;28;01mimport\u001B[39;00m \u001B[38;5;21;01mcadquery\u001B[39;00m \u001B[38;5;28;01mas\u001B[39;00m \u001B[38;5;21;01mcq\u001B[39;00m\n",
      "File \u001B[1;32m~\\anaconda3\\envs\\cadquery\\Lib\\site-packages\\cadquery\\__init__.py:22\u001B[0m\n\u001B[0;32m     10\u001B[0m \u001B[38;5;28;01mfrom\u001B[39;00m \u001B[38;5;21;01m.\u001B[39;00m\u001B[38;5;21;01mocc_impl\u001B[39;00m\u001B[38;5;21;01m.\u001B[39;00m\u001B[38;5;21;01mgeom\u001B[39;00m \u001B[38;5;28;01mimport\u001B[39;00m Plane, BoundBox, Vector, Matrix, Location\n\u001B[0;32m     11\u001B[0m \u001B[38;5;28;01mfrom\u001B[39;00m \u001B[38;5;21;01m.\u001B[39;00m\u001B[38;5;21;01mocc_impl\u001B[39;00m\u001B[38;5;21;01m.\u001B[39;00m\u001B[38;5;21;01mshapes\u001B[39;00m \u001B[38;5;28;01mimport\u001B[39;00m (\n\u001B[0;32m     12\u001B[0m     Shape,\n\u001B[0;32m     13\u001B[0m     Vertex,\n\u001B[1;32m   (...)\u001B[0m\n\u001B[0;32m     20\u001B[0m     sortWiresByBuildOrder,\n\u001B[0;32m     21\u001B[0m )\n\u001B[1;32m---> 22\u001B[0m \u001B[38;5;28;01mfrom\u001B[39;00m \u001B[38;5;21;01m.\u001B[39;00m\u001B[38;5;21;01mocc_impl\u001B[39;00m \u001B[38;5;28;01mimport\u001B[39;00m exporters\n\u001B[0;32m     23\u001B[0m \u001B[38;5;28;01mfrom\u001B[39;00m \u001B[38;5;21;01m.\u001B[39;00m\u001B[38;5;21;01mocc_impl\u001B[39;00m \u001B[38;5;28;01mimport\u001B[39;00m importers\n\u001B[0;32m     25\u001B[0m \u001B[38;5;66;03m# these items are the common implementation\u001B[39;00m\n\u001B[0;32m     26\u001B[0m \n\u001B[0;32m     27\u001B[0m \u001B[38;5;66;03m# the order of these matter\u001B[39;00m\n",
      "File \u001B[1;32m~\\anaconda3\\envs\\cadquery\\Lib\\site-packages\\cadquery\\occ_impl\\exporters\\__init__.py:10\u001B[0m\n\u001B[0;32m      6\u001B[0m \u001B[38;5;28;01mfrom\u001B[39;00m \u001B[38;5;21;01mtyping_extensions\u001B[39;00m \u001B[38;5;28;01mimport\u001B[39;00m Literal\n\u001B[0;32m      8\u001B[0m \u001B[38;5;28;01mfrom\u001B[39;00m \u001B[38;5;21;01mOCP\u001B[39;00m\u001B[38;5;21;01m.\u001B[39;00m\u001B[38;5;21;01mVrmlAPI\u001B[39;00m \u001B[38;5;28;01mimport\u001B[39;00m VrmlAPI\n\u001B[1;32m---> 10\u001B[0m \u001B[38;5;28;01mfrom\u001B[39;00m \u001B[38;5;21;01m.\u001B[39;00m\u001B[38;5;21;01m.\u001B[39;00m\u001B[38;5;21;01m.\u001B[39;00m\u001B[38;5;21;01mcq\u001B[39;00m \u001B[38;5;28;01mimport\u001B[39;00m Workplane\n\u001B[0;32m     11\u001B[0m \u001B[38;5;28;01mfrom\u001B[39;00m \u001B[38;5;21;01m.\u001B[39;00m\u001B[38;5;21;01m.\u001B[39;00m\u001B[38;5;21;01m.\u001B[39;00m\u001B[38;5;21;01mutils\u001B[39;00m \u001B[38;5;28;01mimport\u001B[39;00m deprecate\n\u001B[0;32m     12\u001B[0m \u001B[38;5;28;01mfrom\u001B[39;00m \u001B[38;5;21;01m.\u001B[39;00m\u001B[38;5;21;01m.\u001B[39;00m\u001B[38;5;21;01mshapes\u001B[39;00m \u001B[38;5;28;01mimport\u001B[39;00m Shape\n",
      "File \u001B[1;32m~\\anaconda3\\envs\\cadquery\\Lib\\site-packages\\cadquery\\cq.py:62\u001B[0m\n\u001B[0;32m     55\u001B[0m \u001B[38;5;28;01mfrom\u001B[39;00m \u001B[38;5;21;01m.\u001B[39;00m\u001B[38;5;21;01mutils\u001B[39;00m \u001B[38;5;28;01mimport\u001B[39;00m deprecate, deprecate_kwarg_name\n\u001B[0;32m     57\u001B[0m \u001B[38;5;28;01mfrom\u001B[39;00m \u001B[38;5;21;01m.\u001B[39;00m\u001B[38;5;21;01mselectors\u001B[39;00m \u001B[38;5;28;01mimport\u001B[39;00m (\n\u001B[0;32m     58\u001B[0m     Selector,\n\u001B[0;32m     59\u001B[0m     StringSyntaxSelector,\n\u001B[0;32m     60\u001B[0m )\n\u001B[1;32m---> 62\u001B[0m \u001B[38;5;28;01mfrom\u001B[39;00m \u001B[38;5;21;01m.\u001B[39;00m\u001B[38;5;21;01msketch\u001B[39;00m \u001B[38;5;28;01mimport\u001B[39;00m Sketch\n\u001B[0;32m     64\u001B[0m CQObject \u001B[38;5;241m=\u001B[39m Union[Vector, Location, Shape, Sketch]\n\u001B[0;32m     65\u001B[0m VectorLike \u001B[38;5;241m=\u001B[39m Union[Tuple[\u001B[38;5;28mfloat\u001B[39m, \u001B[38;5;28mfloat\u001B[39m], Tuple[\u001B[38;5;28mfloat\u001B[39m, \u001B[38;5;28mfloat\u001B[39m, \u001B[38;5;28mfloat\u001B[39m], Vector]\n",
      "File \u001B[1;32m~\\anaconda3\\envs\\cadquery\\Lib\\site-packages\\cadquery\\sketch.py:21\u001B[0m\n\u001B[0;32m     18\u001B[0m \u001B[38;5;28;01mfrom\u001B[39;00m \u001B[38;5;21;01mmultimethod\u001B[39;00m \u001B[38;5;28;01mimport\u001B[39;00m multimethod\n\u001B[0;32m     19\u001B[0m \u001B[38;5;28;01mfrom\u001B[39;00m \u001B[38;5;21;01mtypish\u001B[39;00m \u001B[38;5;28;01mimport\u001B[39;00m instance_of, get_type\n\u001B[1;32m---> 21\u001B[0m \u001B[38;5;28;01mfrom\u001B[39;00m \u001B[38;5;21;01m.\u001B[39;00m\u001B[38;5;21;01mhull\u001B[39;00m \u001B[38;5;28;01mimport\u001B[39;00m find_hull\n\u001B[0;32m     22\u001B[0m \u001B[38;5;28;01mfrom\u001B[39;00m \u001B[38;5;21;01m.\u001B[39;00m\u001B[38;5;21;01mselectors\u001B[39;00m \u001B[38;5;28;01mimport\u001B[39;00m StringSyntaxSelector, Selector\n\u001B[0;32m     23\u001B[0m \u001B[38;5;28;01mfrom\u001B[39;00m \u001B[38;5;21;01m.\u001B[39;00m\u001B[38;5;21;01mtypes\u001B[39;00m \u001B[38;5;28;01mimport\u001B[39;00m Real\n",
      "File \u001B[1;32m~\\anaconda3\\envs\\cadquery\\Lib\\site-packages\\cadquery\\hull.py:3\u001B[0m\n\u001B[0;32m      1\u001B[0m \u001B[38;5;28;01mfrom\u001B[39;00m \u001B[38;5;21;01mtyping\u001B[39;00m \u001B[38;5;28;01mimport\u001B[39;00m List, Tuple, Union, Iterable, Set\n\u001B[0;32m      2\u001B[0m \u001B[38;5;28;01mfrom\u001B[39;00m \u001B[38;5;21;01mmath\u001B[39;00m \u001B[38;5;28;01mimport\u001B[39;00m pi, sin, cos, atan2, sqrt, inf, degrees\n\u001B[1;32m----> 3\u001B[0m \u001B[38;5;28;01mfrom\u001B[39;00m \u001B[38;5;21;01mnumpy\u001B[39;00m \u001B[38;5;28;01mimport\u001B[39;00m lexsort, argmin, argmax\n\u001B[0;32m      5\u001B[0m \u001B[38;5;28;01mfrom\u001B[39;00m \u001B[38;5;21;01m.\u001B[39;00m\u001B[38;5;21;01mocc_impl\u001B[39;00m\u001B[38;5;21;01m.\u001B[39;00m\u001B[38;5;21;01mshapes\u001B[39;00m \u001B[38;5;28;01mimport\u001B[39;00m Edge, Wire\n\u001B[0;32m      6\u001B[0m \u001B[38;5;28;01mfrom\u001B[39;00m \u001B[38;5;21;01m.\u001B[39;00m\u001B[38;5;21;01mocc_impl\u001B[39;00m\u001B[38;5;21;01m.\u001B[39;00m\u001B[38;5;21;01mgeom\u001B[39;00m \u001B[38;5;28;01mimport\u001B[39;00m Vector\n",
      "File \u001B[1;32m~\\anaconda3\\envs\\cadquery\\Lib\\site-packages\\numpy\\__init__.py:157\u001B[0m\n\u001B[0;32m    155\u001B[0m \u001B[38;5;28;01mfrom\u001B[39;00m \u001B[38;5;21;01m.\u001B[39;00m \u001B[38;5;28;01mimport\u001B[39;00m fft\n\u001B[0;32m    156\u001B[0m \u001B[38;5;28;01mfrom\u001B[39;00m \u001B[38;5;21;01m.\u001B[39;00m \u001B[38;5;28;01mimport\u001B[39;00m polynomial\n\u001B[1;32m--> 157\u001B[0m \u001B[38;5;28;01mfrom\u001B[39;00m \u001B[38;5;21;01m.\u001B[39;00m \u001B[38;5;28;01mimport\u001B[39;00m random\n\u001B[0;32m    158\u001B[0m \u001B[38;5;28;01mfrom\u001B[39;00m \u001B[38;5;21;01m.\u001B[39;00m \u001B[38;5;28;01mimport\u001B[39;00m ctypeslib\n\u001B[0;32m    159\u001B[0m \u001B[38;5;28;01mfrom\u001B[39;00m \u001B[38;5;21;01m.\u001B[39;00m \u001B[38;5;28;01mimport\u001B[39;00m ma\n",
      "File \u001B[1;32m~\\anaconda3\\envs\\cadquery\\Lib\\site-packages\\numpy\\random\\__init__.py:180\u001B[0m\n\u001B[0;32m    126\u001B[0m __all__ \u001B[38;5;241m=\u001B[39m [\n\u001B[0;32m    127\u001B[0m     \u001B[38;5;124m'\u001B[39m\u001B[38;5;124mbeta\u001B[39m\u001B[38;5;124m'\u001B[39m,\n\u001B[0;32m    128\u001B[0m     \u001B[38;5;124m'\u001B[39m\u001B[38;5;124mbinomial\u001B[39m\u001B[38;5;124m'\u001B[39m,\n\u001B[1;32m   (...)\u001B[0m\n\u001B[0;32m    176\u001B[0m     \u001B[38;5;124m'\u001B[39m\u001B[38;5;124mzipf\u001B[39m\u001B[38;5;124m'\u001B[39m,\n\u001B[0;32m    177\u001B[0m ]\n\u001B[0;32m    179\u001B[0m \u001B[38;5;66;03m# add these for module-freeze analysis (like PyInstaller)\u001B[39;00m\n\u001B[1;32m--> 180\u001B[0m \u001B[38;5;28;01mfrom\u001B[39;00m \u001B[38;5;21;01m.\u001B[39;00m \u001B[38;5;28;01mimport\u001B[39;00m _pickle\n\u001B[0;32m    181\u001B[0m \u001B[38;5;28;01mfrom\u001B[39;00m \u001B[38;5;21;01m.\u001B[39;00m \u001B[38;5;28;01mimport\u001B[39;00m _common\n\u001B[0;32m    182\u001B[0m \u001B[38;5;28;01mfrom\u001B[39;00m \u001B[38;5;21;01m.\u001B[39;00m \u001B[38;5;28;01mimport\u001B[39;00m _bounded_integers\n",
      "File \u001B[1;32m~\\anaconda3\\envs\\cadquery\\Lib\\site-packages\\numpy\\random\\_pickle.py:6\u001B[0m\n\u001B[0;32m      3\u001B[0m \u001B[38;5;28;01mfrom\u001B[39;00m \u001B[38;5;21;01m.\u001B[39;00m\u001B[38;5;21;01m_pcg64\u001B[39;00m \u001B[38;5;28;01mimport\u001B[39;00m PCG64, PCG64DXSM\n\u001B[0;32m      4\u001B[0m \u001B[38;5;28;01mfrom\u001B[39;00m \u001B[38;5;21;01m.\u001B[39;00m\u001B[38;5;21;01m_sfc64\u001B[39;00m \u001B[38;5;28;01mimport\u001B[39;00m SFC64\n\u001B[1;32m----> 6\u001B[0m \u001B[38;5;28;01mfrom\u001B[39;00m \u001B[38;5;21;01m.\u001B[39;00m\u001B[38;5;21;01m_generator\u001B[39;00m \u001B[38;5;28;01mimport\u001B[39;00m Generator\n\u001B[0;32m      7\u001B[0m \u001B[38;5;28;01mfrom\u001B[39;00m \u001B[38;5;21;01m.\u001B[39;00m\u001B[38;5;21;01m_mt19937\u001B[39;00m \u001B[38;5;28;01mimport\u001B[39;00m MT19937\n\u001B[0;32m      9\u001B[0m BitGenerators \u001B[38;5;241m=\u001B[39m {\u001B[38;5;124m'\u001B[39m\u001B[38;5;124mMT19937\u001B[39m\u001B[38;5;124m'\u001B[39m: MT19937,\n\u001B[0;32m     10\u001B[0m                  \u001B[38;5;124m'\u001B[39m\u001B[38;5;124mPCG64\u001B[39m\u001B[38;5;124m'\u001B[39m: PCG64,\n\u001B[0;32m     11\u001B[0m                  \u001B[38;5;124m'\u001B[39m\u001B[38;5;124mPCG64DXSM\u001B[39m\u001B[38;5;124m'\u001B[39m: PCG64DXSM,\n\u001B[0;32m     12\u001B[0m                  \u001B[38;5;124m'\u001B[39m\u001B[38;5;124mPhilox\u001B[39m\u001B[38;5;124m'\u001B[39m: Philox,\n\u001B[0;32m     13\u001B[0m                  \u001B[38;5;124m'\u001B[39m\u001B[38;5;124mSFC64\u001B[39m\u001B[38;5;124m'\u001B[39m: SFC64,\n\u001B[0;32m     14\u001B[0m                  }\n",
      "File \u001B[1;32m<frozen importlib._bootstrap>:1176\u001B[0m, in \u001B[0;36m_find_and_load\u001B[1;34m(name, import_)\u001B[0m\n",
      "File \u001B[1;32m<frozen importlib._bootstrap>:1138\u001B[0m, in \u001B[0;36m_find_and_load_unlocked\u001B[1;34m(name, import_)\u001B[0m\n",
      "File \u001B[1;32m<frozen importlib._bootstrap>:1078\u001B[0m, in \u001B[0;36m_find_spec\u001B[1;34m(name, path, target)\u001B[0m\n",
      "File \u001B[1;32m<frozen importlib._bootstrap_external>:1504\u001B[0m, in \u001B[0;36mfind_spec\u001B[1;34m(cls, fullname, path, target)\u001B[0m\n",
      "File \u001B[1;32m<frozen importlib._bootstrap_external>:1476\u001B[0m, in \u001B[0;36m_get_spec\u001B[1;34m(cls, fullname, path, target)\u001B[0m\n",
      "File \u001B[1;32m<frozen importlib._bootstrap_external>:1612\u001B[0m, in \u001B[0;36mfind_spec\u001B[1;34m(self, fullname, target)\u001B[0m\n",
      "File \u001B[1;32m<frozen importlib._bootstrap_external>:147\u001B[0m, in \u001B[0;36m_path_stat\u001B[1;34m(path)\u001B[0m\n",
      "\u001B[1;31mKeyboardInterrupt\u001B[0m: "
     ]
    }
   ],
   "execution_count": 1
  },
  {
   "cell_type": "code",
   "id": "49e58cc9b6ccd32",
   "metadata": {
    "ExecuteTime": {
     "end_time": "2024-07-31T20:35:51.609482Z",
     "start_time": "2024-07-31T20:35:51.609482Z"
    }
   },
   "source": [
    "# Set variables\n",
    "units = {\n",
    "    \"top\": 15,\n",
    "    \"base\": 20\n",
    "}\n",
    "dimensions = {\n",
    "    \"width\": 1,\n",
    "    \"length\": 1,\n",
    "    \"wall_height\": 15,\n",
    "    \"thickness\": 2\n",
    "}\n",
    "bevel = True"
   ],
   "outputs": [],
   "execution_count": null
  },
  {
   "cell_type": "code",
   "id": "f512a452dd8da46e",
   "metadata": {
    "ExecuteTime": {
     "end_time": "2024-07-31T20:35:51.610482Z",
     "start_time": "2024-07-31T20:35:51.610482Z"
    }
   },
   "source": [
    "# Parameters derived from the dictionaries values\n",
    "top_width = units[\"top\"] * dimensions[\"width\"]\n",
    "top_length = units[\"top\"] * dimensions[\"length\"]\n",
    "base_width = units[\"base\"] * dimensions[\"width\"]\n",
    "base_length = units[\"base\"] * dimensions[\"length\"]"
   ],
   "outputs": [],
   "execution_count": null
  },
  {
   "cell_type": "code",
   "id": "38eddad7",
   "metadata": {},
   "source": [
    "# Create the base profile and loft to the top profile\n",
    "keycap_body = (\n",
    "    cq.Workplane(\"XY\")\n",
    "    .rect(base_width, base_length)\n",
    "    .workplane(offset=dimensions[\"wall_height\"] + dimensions[\"thickness\"])\n",
    "    .rect(top_width, top_length)\n",
    "    .loft(combine=True)\n",
    ")\n",
    "keycap_body"
   ],
   "outputs": [],
   "execution_count": null
  },
  {
   "cell_type": "code",
   "id": "3c63bcf4",
   "metadata": {},
   "source": [
    "# Create the inner hollow part\n",
    "inner_keycap = (\n",
    "    cq.Workplane(\"XY\")\n",
    "    .rect((units[\"base\"] - (dimensions[\"thickness\"] * 2)) * dimensions[\"width\"],\n",
    "          (units[\"base\"] - (dimensions[\"thickness\"] * 2)) * dimensions[\"length\"])\n",
    "    .workplane(offset=dimensions[\"wall_height\"])\n",
    "    .rect((top_width - (dimensions[\"thickness\"] * 2)) * dimensions[\"width\"],\n",
    "          (top_length - (dimensions[\"thickness\"] * 2)) * dimensions[\"length\"])\n",
    "    .loft(combine=True)\n",
    ")\n",
    "inner_keycap"
   ],
   "outputs": [],
   "execution_count": null
  },
  {
   "cell_type": "code",
   "id": "c56d6b75",
   "metadata": {},
   "source": [
    "# Cut out the inner keycap to create the hollow\n",
    "keycap = keycap_body.cut(inner_keycap)\n",
    "keycap"
   ],
   "outputs": [],
   "execution_count": null
  },
  {
   "cell_type": "code",
   "id": "1b7f799c",
   "metadata": {},
   "source": [
    "# Add rounded corners if requested\n",
    "if bevel:\n",
    "    keycap = keycap.edges().fillet(0.5)\n",
    "keycap"
   ],
   "outputs": [],
   "execution_count": null
  },
  {
   "cell_type": "code",
   "id": "c1a0015a",
   "metadata": {},
   "source": [
    "# export step\n",
    "cq.exporters.export(keycap, \"test_steps/keycap.step\")"
   ],
   "outputs": [],
   "execution_count": null
  }
 ],
 "metadata": {
  "kernelspec": {
   "display_name": "Python 3 (ipykernel)",
   "language": "python",
   "name": "python3"
  },
  "language_info": {
   "codemirror_mode": {
    "name": "ipython",
    "version": 3
   },
   "file_extension": ".py",
   "mimetype": "text/x-python",
   "name": "python",
   "nbconvert_exporter": "python",
   "pygments_lexer": "ipython3",
   "version": "3.11.8"
  }
 },
 "nbformat": 4,
 "nbformat_minor": 5
}

{
 "cells": [
  {
   "cell_type": "code",
   "execution_count": null,
   "id": "initial_id",
   "metadata": {
    "collapsed": true
   },
   "outputs": [],
   "source": [
    "# Library imports\n",
    "import cadquery as cq"
   ]
  },
  {
   "metadata": {},
   "cell_type": "code",
   "outputs": [],
   "execution_count": null,
   "source": [
    "# Set variables\n",
    "height = 50\n",
    "width = 200\n",
    "length = 100\n",
    "thickness = 5\n",
    "bevel = True\n",
    "screw_diameter = 3"
   ],
   "id": "bbb155e7ca4b4f76"
  },
  {
   "metadata": {},
   "cell_type": "code",
   "outputs": [],
   "execution_count": null,
   "source": [
    "# Create positions for corners\n",
    "corner_radius = thickness\n",
    "positions = [\n",
    "    (-(width / 2 - corner_radius), -(length / 2 - corner_radius)),\n",
    "    (-(width / 2 - corner_radius), length / 2 - corner_radius),\n",
    "    (width / 2 - corner_radius, -(length / 2 - corner_radius)),\n",
    "    (width / 2 - corner_radius, length / 2 - corner_radius),\n",
    "    (0, -(length / 2 - corner_radius)),\n",
    "    (0, length / 2 - corner_radius)\n",
    "]"
   ],
   "id": "c435ec0c526267b2"
  }
 ],
 "metadata": {
  "kernelspec": {
   "display_name": "Python 3",
   "language": "python",
   "name": "python3"
  },
  "language_info": {
   "codemirror_mode": {
    "name": "ipython",
    "version": 2
   },
   "file_extension": ".py",
   "mimetype": "text/x-python",
   "name": "python",
   "nbconvert_exporter": "python",
   "pygments_lexer": "ipython2",
   "version": "2.7.6"
  }
 },
 "nbformat": 4,
 "nbformat_minor": 5
}

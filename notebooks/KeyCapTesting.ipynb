{
 "cells": [
  {
   "cell_type": "code",
   "execution_count": 1,
   "id": "initial_id",
   "metadata": {
    "jupyter": {
     "is_executing": true
    }
   },
   "outputs": [],
   "source": [
    "# Library imports\n",
    "import cadquery as cq"
   ]
  },
  {
   "cell_type": "code",
   "execution_count": 2,
   "id": "49e58cc9b6ccd32",
   "metadata": {
    "ExecuteTime": {
     "end_time": "2024-07-13T19:40:37.205369Z",
     "start_time": "2024-07-13T19:40:30.294484Z"
    }
   },
   "outputs": [],
   "source": [
    "# Set variables\n",
    "units = {\n",
    "    \"top\": 15,\n",
    "    \"base\": 20\n",
    "}\n",
    "dimensions = {\n",
    "    \"width\": 1,\n",
    "    \"length\": 1,\n",
    "    \"height\": 15,\n",
    "    \"thickness\": 2\n",
    "}\n",
    "bevel = True"
   ]
  },
  {
   "cell_type": "code",
   "execution_count": 3,
   "id": "f512a452dd8da46e",
   "metadata": {},
   "outputs": [],
   "source": [
    "# Parameters derived from the dictionaries values\n",
    "top_difference = units[\"base\"] - units[\"top\"]\n",
    "top_width = units[\"top\"] * dimensions[\"width\"]\n",
    "top_length = units[\"top\"] * dimensions[\"length\"]\n",
    "base_width = units[\"base\"] * dimensions[\"width\"]\n",
    "base_length = units[\"base\"] * dimensions[\"length\"]"
   ]
  },
  {
   "cell_type": "code",
   "execution_count": null,
   "id": "ea269648",
   "metadata": {},
   "outputs": [],
   "source": [
    "# Create the top part of the keycap\n",
    "top_part = (\n",
    "    cq.Workplane(\"XY\")\n",
    "    .rect(top_width, top_length)\n",
    "    .extrude(dimensions[\"thickness\"])\n",
    ")\n",
    "top_part"
   ]
  },
  {
   "cell_type": "code",
   "execution_count": null,
   "id": "38eddad7",
   "metadata": {},
   "outputs": [],
   "source": [
    "# Create the base profile and loft to the top profile\n",
    "keycap_body = (\n",
    "    cq.Workplane(\"XY\")\n",
    "    .rect(top_width, top_length)\n",
    "    .workplane(offset=dimensions[\"height\"])\n",
    "    .rect(base_width, base_length)\n",
    "    .loft(combine=True)\n",
    ")\n",
    "keycap_body"
   ]
  },
  {
   "cell_type": "code",
   "execution_count": null,
   "id": "3c63bcf4",
   "metadata": {},
   "outputs": [],
   "source": [
    "# Create the inner hollow part\n",
    "inner_keycap = (\n",
    "    cq.Workplane(\"XY\")\n",
    "    .rect((top_width - (dimensions[\"thickness\"] * 2)) * dimensions[\"width\"],\n",
    "          (top_length - (dimensions[\"thickness\"] * 2)) * dimensions[\"length\"])\n",
    "    .workplane(offset=dimensions[\"height\"])\n",
    "    .rect((units[\"base\"] - (dimensions[\"thickness\"] * 2)) * dimensions[\"width\"],\n",
    "          (units[\"base\"] - (dimensions[\"thickness\"] * 2)) * dimensions[\"length\"])\n",
    "    .loft(combine=True)\n",
    ")\n",
    "inner_keycap"
   ]
  },
  {
   "cell_type": "code",
   "execution_count": null,
   "id": "c56d6b75",
   "metadata": {},
   "outputs": [],
   "source": [
    "# Cut out the inner keycap to create the hollow\n",
    "keycap = keycap_body.cut(inner_keycap)\n",
    "keycap"
   ]
  },
  {
   "cell_type": "code",
   "execution_count": null,
   "id": "390a0701",
   "metadata": {},
   "outputs": [],
   "source": [
    "# Combine the sides and the keycap top\n",
    "keycap = top_part.union(keycap)\n",
    "keycap"
   ]
  },
  {
   "cell_type": "code",
   "execution_count": null,
   "id": "1b7f799c",
   "metadata": {},
   "outputs": [],
   "source": [
    "# Add rounded corners if requested\n",
    "if bevel:\n",
    "    keycap = keycap.edges().fillet(0.5)\n",
    "keycap"
   ]
  },
  {
   "cell_type": "code",
   "execution_count": null,
   "id": "c1a0015a",
   "metadata": {},
   "outputs": [],
   "source": [
    "# export step\n",
    "cq.exporters.export(keycap, \"test_steps/keycap.step\")"
   ]
  }
 ],
 "metadata": {
  "kernelspec": {
   "display_name": "Python 3 (ipykernel)",
   "language": "python",
   "name": "python3"
  },
  "language_info": {
   "codemirror_mode": {
    "name": "ipython",
    "version": 3
   },
   "file_extension": ".py",
   "mimetype": "text/x-python",
   "name": "python",
   "nbconvert_exporter": "python",
   "pygments_lexer": "ipython3",
   "version": "3.11.8"
  }
 },
 "nbformat": 4,
 "nbformat_minor": 5
}

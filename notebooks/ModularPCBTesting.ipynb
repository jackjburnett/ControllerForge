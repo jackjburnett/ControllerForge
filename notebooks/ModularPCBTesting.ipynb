{
 "cells": [
  {
   "metadata": {
    "ExecuteTime": {
     "end_time": "2024-07-13T13:26:45.065666Z",
     "start_time": "2024-07-13T13:26:44.926198Z"
    }
   },
   "cell_type": "code",
   "source": [
    "from skidl import Part, Net, generate_netlist, ERC\n",
    "\n",
    "# Define the RP2040 microcontroller part\n",
    "rp2040 = Part('MCU_Module', 'RP2040', footprint='Package_QFP:TQFP-48_7x7mm_P0.5mm')\n",
    "\n",
    "# Define 16 pogo pins\n",
    "# Assuming there's a part for pogo pins in the library, otherwise use a generic part\n",
    "pogo_pins = [Part('Connector', 'Pogo_Pin', footprint='Connector_Pogo:POGO_Pin_1P') for _ in range(16)]\n",
    "\n",
    "# Define power and ground nets\n",
    "gnd = Net('GND')\n",
    "vcc = Net('VCC')\n",
    "\n",
    "# Define nets for pogo pins\n",
    "pogo_nets = [Net(f'POGO{i+1}') for i in range(16)]\n",
    "\n",
    "# List of GPIO pins to connect each pogo pin\n",
    "gpio_pins = ['GPIO0', 'GPIO1', 'GPIO2', 'GPIO3', 'GPIO4', 'GPIO5', 'GPIO6', 'GPIO7', \n",
    "             'GPIO8', 'GPIO9', 'GPIO10', 'GPIO11', 'GPIO12', 'GPIO13', 'GPIO14', 'GPIO15']\n",
    "\n",
    "# Connect pogo pins to the specified GPIO pins on the microcontroller\n",
    "for i, pogo_pin in enumerate(pogo_pins):\n",
    "    pogo_pin[1] += pogo_nets[i]  # Connect pogo pin to a pogo net\n",
    "    rp2040[gpio_pins[i]] += pogo_nets[i]  # Connect each pogo net to the specified GPIO pin on RP2040\n",
    "\n",
    "# Connect power and ground to the microcontroller\n",
    "rp2040['VCC'] += vcc\n",
    "rp2040['GND'] += gnd\n",
    "\n",
    "# Generate the netlist\n",
    "netlist = generate_netlist()\n",
    "\n",
    "# Run Electrical Rules Check (ERC)\n",
    "erc_results = ERC()\n",
    "\n",
    "# Display the results\n",
    "print(\"\\nGenerated Netlist:\\n\")\n",
    "print(netlist)\n",
    "\n",
    "print(\"\\nElectrical Rules Check (ERC) Results:\\n\")\n",
    "print(erc_results)"
   ],
   "id": "initial_id",
   "outputs": [
    {
     "name": "stderr",
     "output_type": "stream",
     "text": [
      "WARNING: Could not load KiCad schematic library \"MCU_Module\", falling back to backup library. @ [C:\\Users\\jackj\\anaconda3\\envs\\cadquery\\Lib\\site-packages\\IPython\\core\\interactiveshell.py:3553=>C:\\Users\\jackj\\AppData\\Local\\Temp\\ipykernel_45912\\3071900383.py:4]\n"
     ]
    },
    {
     "ename": "FileNotFoundError",
     "evalue": "Unable to open KiCad Schematic Library File MCU_Module",
     "output_type": "error",
     "traceback": [
      "\u001B[1;31m---------------------------------------------------------------------------\u001B[0m",
      "\u001B[1;31mFileNotFoundError\u001B[0m                         Traceback (most recent call last)",
      "Cell \u001B[1;32mIn[2], line 4\u001B[0m\n\u001B[0;32m      1\u001B[0m \u001B[38;5;28;01mfrom\u001B[39;00m \u001B[38;5;21;01mskidl\u001B[39;00m \u001B[38;5;28;01mimport\u001B[39;00m Part, Net, generate_netlist, ERC\n\u001B[0;32m      3\u001B[0m \u001B[38;5;66;03m# Define the RP2040 microcontroller part\u001B[39;00m\n\u001B[1;32m----> 4\u001B[0m rp2040 \u001B[38;5;241m=\u001B[39m Part(\u001B[38;5;124m'\u001B[39m\u001B[38;5;124mMCU_Module\u001B[39m\u001B[38;5;124m'\u001B[39m, \u001B[38;5;124m'\u001B[39m\u001B[38;5;124mRP2040\u001B[39m\u001B[38;5;124m'\u001B[39m, footprint\u001B[38;5;241m=\u001B[39m\u001B[38;5;124m'\u001B[39m\u001B[38;5;124mPackage_QFP:TQFP-48_7x7mm_P0.5mm\u001B[39m\u001B[38;5;124m'\u001B[39m)\n\u001B[0;32m      6\u001B[0m \u001B[38;5;66;03m# Define 16 pogo pins\u001B[39;00m\n\u001B[0;32m      7\u001B[0m \u001B[38;5;66;03m# Assuming there's a part for pogo pins in the library, otherwise use a generic part\u001B[39;00m\n\u001B[0;32m      8\u001B[0m pogo_pins \u001B[38;5;241m=\u001B[39m [Part(\u001B[38;5;124m'\u001B[39m\u001B[38;5;124mConnector\u001B[39m\u001B[38;5;124m'\u001B[39m, \u001B[38;5;124m'\u001B[39m\u001B[38;5;124mPogo_Pin\u001B[39m\u001B[38;5;124m'\u001B[39m, footprint\u001B[38;5;241m=\u001B[39m\u001B[38;5;124m'\u001B[39m\u001B[38;5;124mConnector_Pogo:POGO_Pin_1P\u001B[39m\u001B[38;5;124m'\u001B[39m) \u001B[38;5;28;01mfor\u001B[39;00m _ \u001B[38;5;129;01min\u001B[39;00m \u001B[38;5;28mrange\u001B[39m(\u001B[38;5;241m16\u001B[39m)]\n",
      "File \u001B[1;32m~\\anaconda3\\envs\\cadquery\\Lib\\site-packages\\skidl\\part.py:201\u001B[0m, in \u001B[0;36mPart.__init__\u001B[1;34m(self, lib, name, dest, tool, connections, part_defn, circuit, ref_prefix, ref, tag, pin_splitters, tool_version, **kwargs)\u001B[0m\n\u001B[0;32m    199\u001B[0m     lib \u001B[38;5;241m=\u001B[39m skidl\u001B[38;5;241m.\u001B[39mload_backup_lib()\n\u001B[0;32m    200\u001B[0m     \u001B[38;5;28;01mif\u001B[39;00m \u001B[38;5;129;01mnot\u001B[39;00m lib:\n\u001B[1;32m--> 201\u001B[0m         \u001B[38;5;28;01mraise\u001B[39;00m e\n\u001B[0;32m    202\u001B[0m \u001B[38;5;28;01melse\u001B[39;00m:\n\u001B[0;32m    203\u001B[0m     \u001B[38;5;28;01mraise\u001B[39;00m e\n",
      "File \u001B[1;32m~\\anaconda3\\envs\\cadquery\\Lib\\site-packages\\skidl\\part.py:191\u001B[0m, in \u001B[0;36mPart.__init__\u001B[1;34m(self, lib, name, dest, tool, connections, part_defn, circuit, ref_prefix, ref, tag, pin_splitters, tool_version, **kwargs)\u001B[0m\n\u001B[0;32m    189\u001B[0m libname \u001B[38;5;241m=\u001B[39m lib\n\u001B[0;32m    190\u001B[0m \u001B[38;5;28;01mtry\u001B[39;00m:\n\u001B[1;32m--> 191\u001B[0m     lib \u001B[38;5;241m=\u001B[39m SchLib(filename\u001B[38;5;241m=\u001B[39mlibname, tool\u001B[38;5;241m=\u001B[39mtool)\n\u001B[0;32m    192\u001B[0m \u001B[38;5;28;01mexcept\u001B[39;00m \u001B[38;5;167;01mFileNotFoundError\u001B[39;00m \u001B[38;5;28;01mas\u001B[39;00m e:\n\u001B[0;32m    193\u001B[0m     \u001B[38;5;28;01mif\u001B[39;00m skidl\u001B[38;5;241m.\u001B[39mconfig\u001B[38;5;241m.\u001B[39mquery_backup_lib:\n",
      "File \u001B[1;32m~\\anaconda3\\envs\\cadquery\\Lib\\site-packages\\skidl\\schlib.py:88\u001B[0m, in \u001B[0;36mSchLib.__init__\u001B[1;34m(self, filename, tool, lib_section, **attribs)\u001B[0m\n\u001B[0;32m     84\u001B[0m \u001B[38;5;66;03m# Otherwise, load from a schematic library file.\u001B[39;00m\n\u001B[0;32m     85\u001B[0m \u001B[38;5;28;01melse\u001B[39;00m:\n\u001B[0;32m     86\u001B[0m     \u001B[38;5;28;01mtry\u001B[39;00m:\n\u001B[0;32m     87\u001B[0m         \u001B[38;5;66;03m# Use the tool name to find the function for loading the library.\u001B[39;00m\n\u001B[1;32m---> 88\u001B[0m         tool_modules[tool]\u001B[38;5;241m.\u001B[39mload_sch_lib(\n\u001B[0;32m     89\u001B[0m             \u001B[38;5;28mself\u001B[39m,\n\u001B[0;32m     90\u001B[0m             filename,\n\u001B[0;32m     91\u001B[0m             skidl\u001B[38;5;241m.\u001B[39mlib_search_paths[tool],\n\u001B[0;32m     92\u001B[0m             lib_section\u001B[38;5;241m=\u001B[39mlib_section,\n\u001B[0;32m     93\u001B[0m         )\n\u001B[0;32m     94\u001B[0m     \u001B[38;5;28;01mexcept\u001B[39;00m \u001B[38;5;167;01mAttributeError\u001B[39;00m:\n\u001B[0;32m     95\u001B[0m         \u001B[38;5;66;03m# OK, that didn't work so well...\u001B[39;00m\n\u001B[0;32m     96\u001B[0m         active_logger\u001B[38;5;241m.\u001B[39mraise_(\n\u001B[0;32m     97\u001B[0m             \u001B[38;5;167;01mValueError\u001B[39;00m,\n\u001B[0;32m     98\u001B[0m             \u001B[38;5;124m\"\u001B[39m\u001B[38;5;124mUnsupported ECAD tool library: \u001B[39m\u001B[38;5;132;01m{}\u001B[39;00m\u001B[38;5;124m.\u001B[39m\u001B[38;5;124m\"\u001B[39m\u001B[38;5;241m.\u001B[39mformat(tool),\n\u001B[0;32m     99\u001B[0m         )\n",
      "File \u001B[1;32m~\\anaconda3\\envs\\cadquery\\Lib\\site-packages\\skidl\\tools\\kicad\\kicad.py:87\u001B[0m, in \u001B[0;36mload_sch_lib\u001B[1;34m(lib, filename, lib_search_paths_, lib_section)\u001B[0m\n\u001B[0;32m     85\u001B[0m         \u001B[38;5;28;01mbreak\u001B[39;00m\n\u001B[0;32m     86\u001B[0m \u001B[38;5;28;01mif\u001B[39;00m \u001B[38;5;129;01mnot\u001B[39;00m f:\n\u001B[1;32m---> 87\u001B[0m     \u001B[38;5;28;01mraise\u001B[39;00m \u001B[38;5;167;01mFileNotFoundError\u001B[39;00m(\n\u001B[0;32m     88\u001B[0m         \u001B[38;5;124m\"\u001B[39m\u001B[38;5;124mUnable to open KiCad Schematic Library File \u001B[39m\u001B[38;5;132;01m{}\u001B[39;00m\u001B[38;5;124m\"\u001B[39m\u001B[38;5;241m.\u001B[39mformat(filename)\n\u001B[0;32m     89\u001B[0m     )\n\u001B[0;32m     91\u001B[0m \u001B[38;5;66;03m# TODO: Find a way to use find_and_read_file() and pass the results.\u001B[39;00m\n\u001B[0;32m     92\u001B[0m \u001B[38;5;28;01mif\u001B[39;00m suffix \u001B[38;5;241m==\u001B[39m \u001B[38;5;124m\"\u001B[39m\u001B[38;5;124m.kicad_sym\u001B[39m\u001B[38;5;124m\"\u001B[39m:\n",
      "\u001B[1;31mFileNotFoundError\u001B[0m: Unable to open KiCad Schematic Library File MCU_Module"
     ]
    }
   ],
   "execution_count": 2
  },
  {
   "metadata": {},
   "cell_type": "code",
   "outputs": [],
   "execution_count": null,
   "source": [
    "from skidl import Part, Net, generate_netlist, ERC\n",
    "\n",
    "# Define 16 push buttons\n",
    "buttons = [Part('Device', 'SW_PUSH', footprint='Button_Switch_SMD:SW_SPST_TL3342') for _ in range(16)]\n",
    "\n",
    "# Define 16 spring-loaded receptacles\n",
    "spring_receptacles = [Part('Connector', 'Spring_Loaded_Receptacle', footprint='Connector_Pogo:POGO_Receptacle_1P') for _ in range(16)]\n",
    "\n",
    "# Define power and ground nets\n",
    "gnd = Net('GND')\n",
    "vcc = Net('VCC')\n",
    "\n",
    "# Define nets for buttons and spring-loaded receptacles\n",
    "button_nets = [Net(f'BUTTON{i+1}') for i in range(16)]\n",
    "\n",
    "# Connect buttons to spring-loaded receptacles\n",
    "for i, (button, receptacle) in enumerate(zip(buttons, spring_receptacles)):\n",
    "    button[1] += gnd  # Connect one side of the button to ground\n",
    "    button[2] += button_nets[i]  # Connect the other side to a button net\n",
    "    receptacle[1] += button_nets[i]  # Connect the receptacle to the same button net\n",
    "\n",
    "# Generate the netlist\n",
    "netlist = generate_netlist()\n",
    "\n",
    "# Run Electrical Rules Check (ERC)\n",
    "erc_results = ERC()\n",
    "\n",
    "# Display the results\n",
    "print(\"\\nGenerated Netlist:\\n\")\n",
    "print(netlist)\n",
    "\n",
    "print(\"\\nElectrical Rules Check (ERC) Results:\\n\")\n",
    "print(erc_results)"
   ],
   "id": "de2238c4f47be3e5"
  }
 ],
 "metadata": {
  "kernelspec": {
   "display_name": "Python 3",
   "language": "python",
   "name": "python3"
  },
  "language_info": {
   "codemirror_mode": {
    "name": "ipython",
    "version": 2
   },
   "file_extension": ".py",
   "mimetype": "text/x-python",
   "name": "python",
   "nbconvert_exporter": "python",
   "pygments_lexer": "ipython2",
   "version": "2.7.6"
  }
 },
 "nbformat": 4,
 "nbformat_minor": 5
}

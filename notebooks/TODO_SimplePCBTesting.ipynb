{
 "cells": [
  {
   "cell_type": "code",
   "id": "initial_id",
   "metadata": {
    "ExecuteTime": {
     "end_time": "2024-07-09T21:29:05.519106Z",
     "start_time": "2024-07-09T21:29:05.516641Z"
    }
   },
   "source": [
    "# Library imports\n",
    "import cadquery as cq"
   ],
   "outputs": [],
   "execution_count": 2
  },
  {
   "cell_type": "code",
   "execution_count": 2,
   "id": "5cc5672d3797f58b",
   "metadata": {},
   "outputs": [],
   "source": "# Set variables\n"
  },
  {
   "cell_type": "code",
   "execution_count": null,
   "id": "4f851970",
   "metadata": {},
   "outputs": [],
   "source": []
  }
 ],
 "metadata": {
  "kernelspec": {
   "display_name": "Python 3 (ipykernel)",
   "language": "python",
   "name": "python3"
  },
  "language_info": {
   "codemirror_mode": {
    "name": "ipython",
    "version": 3
   },
   "file_extension": ".py",
   "mimetype": "text/x-python",
   "name": "python",
   "nbconvert_exporter": "python",
   "pygments_lexer": "ipython3",
   "version": "3.11.8"
  }
 },
 "nbformat": 4,
 "nbformat_minor": 5
}

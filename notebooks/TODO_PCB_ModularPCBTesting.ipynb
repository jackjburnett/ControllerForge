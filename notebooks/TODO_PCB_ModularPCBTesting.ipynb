{
 "cells": [
  {
   "cell_type": "markdown",
   "id": "ba24c4f7",
   "metadata": {},
   "source": [
    "# Base PCB"
   ]
  },
  {
   "cell_type": "code",
   "execution_count": 1,
   "id": "initial_id",
   "metadata": {
    "ExecuteTime": {
     "end_time": "2024-07-13T14:04:38.669007Z",
     "start_time": "2024-07-13T14:04:35.357728Z"
    }
   },
   "outputs": [
    {
     "name": "stderr",
     "output_type": "stream",
     "text": [
      "WARNING: KICAD_SYMBOL_DIR environment variable is missing, so the default KiCad symbol libraries won't be searched. @ [C:\\Users\\jackj\\Documents\\GitHub\\ControllerForge\\notebooks\\<frozen importlib._bootstrap_external>:940=>C:\\Users\\jackj\\Documents\\GitHub\\ControllerForge\\notebooks\\<frozen importlib._bootstrap>:241]\n"
     ]
    }
   ],
   "source": "# Library Imports\n"
  }
 ],
 "metadata": {
  "kernelspec": {
   "display_name": "Python 3 (ipykernel)",
   "language": "python",
   "name": "python3"
  },
  "language_info": {
   "codemirror_mode": {
    "name": "ipython",
    "version": 3
   },
   "file_extension": ".py",
   "mimetype": "text/x-python",
   "name": "python",
   "nbconvert_exporter": "python",
   "pygments_lexer": "ipython3",
   "version": "3.11.8"
  }
 },
 "nbformat": 4,
 "nbformat_minor": 5
}
